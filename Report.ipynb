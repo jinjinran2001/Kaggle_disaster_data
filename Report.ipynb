{
 "cells": [
  {
   "cell_type": "markdown",
   "id": "1263adea-95ad-49f7-92ce-eb829c53b81c",
   "metadata": {},
   "source": [
    "Load packages and functions"
   ]
  },
  {
   "cell_type": "code",
   "execution_count": 1,
   "id": "64d9e614-7369-48fb-8a28-e73006477d1a",
   "metadata": {},
   "outputs": [
    {
     "name": "stderr",
     "output_type": "stream",
     "text": [
      "2024-07-07 00:08:05.456043: I tensorflow/core/util/port.cc:113] oneDNN custom operations are on. You may see slightly different numerical results due to floating-point round-off errors from different computation orders. To turn them off, set the environment variable `TF_ENABLE_ONEDNN_OPTS=0`.\n",
      "2024-07-07 00:08:05.527942: I tensorflow/core/platform/cpu_feature_guard.cc:210] This TensorFlow binary is optimized to use available CPU instructions in performance-critical operations.\n",
      "To enable the following instructions: AVX2 AVX512F AVX512_VNNI FMA, in other operations, rebuild TensorFlow with the appropriate compiler flags.\n",
      "2024-07-07 00:08:07.552123: W tensorflow/compiler/tf2tensorrt/utils/py_utils.cc:38] TF-TRT Warning: Could not find TensorRT\n"
     ]
    }
   ],
   "source": [
    "import torch\n",
    "import tiktoken\n",
    "import pandas as pd\n",
    "import matplotlib.pyplot as plt\n",
    "import numpy as np\n",
    "import transformers\n",
    "import tensorflow as tf\n",
    "from models_1 import GPTModel\n",
    "from helper_function import *\n",
    "from load_gpt2 import *\n",
    "from Lora_helper import *\n",
    "from train import *"
   ]
  },
  {
   "cell_type": "markdown",
   "id": "79868a40-b5e9-4504-b596-98c372828907",
   "metadata": {},
   "source": [
    "set up the cuda device"
   ]
  },
  {
   "cell_type": "code",
   "execution_count": 2,
   "id": "368ecaa4-c355-44e2-99d1-76bccc24c468",
   "metadata": {},
   "outputs": [
    {
     "name": "stdout",
     "output_type": "stream",
     "text": [
      "Number of available GPUs: 4\n",
      "GPU 0: Tesla V100-SXM2-32GB\n",
      "GPU 1: Tesla V100-SXM2-32GB\n",
      "GPU 2: Tesla V100-SXM2-32GB\n",
      "GPU 3: Tesla V100-SXM2-32GB\n"
     ]
    }
   ],
   "source": [
    "device = torch.device(\"cuda\" if torch.cuda.is_available() else \"cpu\")\n",
    "# print cuda name\n",
    "if torch.cuda.is_available():\n",
    "    # Get the number of available GPUs\n",
    "    num_gpus = torch.cuda.device_count()\n",
    "    print(f\"Number of available GPUs: {num_gpus}\")\n",
    "\n",
    "    # Iterate over the available GPUs and print their names\n",
    "    for i in range(num_gpus):\n",
    "        gpu_name = torch.cuda.get_device_name(i)\n",
    "        print(f\"GPU {i}: {gpu_name}\")\n",
    "else:\n",
    "    print(\"CUDA is not available.\")"
   ]
  },
  {
   "cell_type": "markdown",
   "id": "d5576c6d-1803-4a6d-9120-eccb0482d698",
   "metadata": {},
   "source": [
    "## Data"
   ]
  },
  {
   "cell_type": "code",
   "execution_count": 3,
   "id": "b404f988-ba8f-4159-afe6-9a9d12d1d778",
   "metadata": {},
   "outputs": [
    {
     "name": "stdout",
     "output_type": "stream",
     "text": [
      "[50256]\n"
     ]
    }
   ],
   "source": [
    "tokenizer = tiktoken.get_encoding(\"gpt2\")\n",
    "print(tokenizer.encode(\"<|endoftext|>\", allowed_special={\"<|endoftext|>\"}))"
   ]
  },
  {
   "cell_type": "markdown",
   "id": "4c3f41a5-61a6-47f7-8920-da9c44119b21",
   "metadata": {},
   "source": [
    "We set the context window to 55 according to EDA, which would be good for most cases."
   ]
  },
  {
   "cell_type": "markdown",
   "id": "4024380e-86dd-48d8-9885-a3a12b2e9cde",
   "metadata": {},
   "source": [
    "We define the training, validation, and testing using stratified sampling, ensuring that the data is balanced."
   ]
  },
  {
   "cell_type": "code",
   "execution_count": 4,
   "id": "0d6d41c0-3691-4260-b414-0db214a49427",
   "metadata": {},
   "outputs": [
    {
     "name": "stdout",
     "output_type": "stream",
     "text": [
      "55\n"
     ]
    }
   ],
   "source": [
    "window_size = 55\n",
    "\n",
    "train_dataset = RatingDataset(\n",
    "    csv_file=\"data/train_df.csv\",\n",
    "    max_length=window_size,\n",
    "    tokenizer=tokenizer\n",
    ")\n",
    "val_dataset = RatingDataset(\n",
    "    csv_file=\"data/val_df.csv\",\n",
    "    max_length=train_dataset.max_length,\n",
    "    tokenizer=tokenizer\n",
    ")\n",
    "print(train_dataset.max_length)"
   ]
  },
  {
   "cell_type": "markdown",
   "id": "74c41d81-9930-4032-b89a-a5534ff90761",
   "metadata": {},
   "source": [
    "We define the dataloader here."
   ]
  },
  {
   "cell_type": "code",
   "execution_count": 5,
   "id": "1d2424bd-92cc-49fa-8a8f-8ddaa09fafcb",
   "metadata": {},
   "outputs": [],
   "source": [
    "from torch.utils.data import DataLoader\n",
    "\n",
    "num_workers = 4\n",
    "batch_size = 32\n",
    "\n",
    "torch.manual_seed(123)\n",
    "\n",
    "train_loader = DataLoader(\n",
    "    dataset=train_dataset,\n",
    "    batch_size=batch_size,\n",
    "    shuffle=True,\n",
    "    num_workers=num_workers,\n",
    "    drop_last=True,\n",
    ")\n",
    "\n",
    "val_loader = DataLoader(\n",
    "    dataset=val_dataset,\n",
    "    batch_size=batch_size,\n",
    "    num_workers=num_workers,\n",
    "    drop_last=False,\n",
    ")"
   ]
  },
  {
   "cell_type": "markdown",
   "id": "5cce8576-9936-4159-99e9-db76787d67d7",
   "metadata": {},
   "source": [
    "We print a sample from train loader. There are 32 mini-batches in one batch and each has length of 300 for text and 1 for target. We use padding when the length of input is shorter than 300."
   ]
  },
  {
   "cell_type": "code",
   "execution_count": 10,
   "id": "a9d114c1-28a7-4574-aa36-a7a80ad39719",
   "metadata": {},
   "outputs": [
    {
     "name": "stdout",
     "output_type": "stream",
     "text": [
      "Train loader:\n",
      "text\n",
      "Crackdown 3 Destruction Restricted to Multiplayer: Crackdown 3 impressed earlier this week with a demonstratio... http://t.co/N08qluornx<|endoftext|><|endoftext|><|endoftext|><|endoftext|><|endoftext|><|endoftext|><|endoftext|><|endoftext|><|endoftext|><|endoftext|><|endoftext|><|endoftext|><|endoftext|><|endoftext|><|endoftext|><|endoftext|><|endoftext|><|endoftext|><|endoftext|><|endoftext|><|endoftext|>\n",
      "label\n",
      "tensor(0)\n",
      "Input batch dimensions: torch.Size([32, 55])\n",
      "Label batch dimensions torch.Size([32])\n"
     ]
    }
   ],
   "source": [
    "print(\"Train loader:\")\n",
    "for input_batch, target_batch in train_loader:\n",
    "    print('text')\n",
    "    print(token_ids_to_text(input_batch[0], tokenizer))\n",
    "    print('label')\n",
    "    print(target_batch[0])\n",
    "    break\n",
    "\n",
    "print(\"Input batch dimensions:\", input_batch.shape)\n",
    "print(\"Label batch dimensions\", target_batch.shape)"
   ]
  },
  {
   "cell_type": "markdown",
   "id": "32c8d5c7-1bc6-4920-b7ef-3bb424dc15c1",
   "metadata": {},
   "source": [
    "## Model"
   ]
  },
  {
   "cell_type": "markdown",
   "id": "61c57f3f-d75e-4469-987e-adb55ef01584",
   "metadata": {},
   "source": [
    "#### Load GPT2 pretrained model"
   ]
  },
  {
   "cell_type": "markdown",
   "id": "e1665aee-9ac5-48c2-ba00-36a4fcb40822",
   "metadata": {},
   "source": [
    "The model we chose was the smaller variation of GPT2 which has 124M parameters. This is becasue our computation resource is constrained. We want to experiment with different training method and different model variation, rather than achieving high benchmarks."
   ]
  },
  {
   "cell_type": "code",
   "execution_count": 8,
   "id": "f7b35b3e-f5e1-469c-968b-7726d5dd4de9",
   "metadata": {},
   "outputs": [],
   "source": [
    "CHOOSE_MODEL = \"gpt2-small (124M)\"\n",
    "INPUT_PROMPT = \"Every effort moves\"\n",
    "\n",
    "BASE_CONFIG = {\n",
    "    \"vocab_size\": 50257,     # Vocabulary size\n",
    "    \"context_length\": 1024,  # Context length\n",
    "    \"drop_rate\": 0.2,        # Dropout rate\n",
    "    \"qkv_bias\": True         # Query-key-value bias\n",
    "}\n",
    "\n",
    "model_configs = {\n",
    "    \"gpt2-small (124M)\": {\"emb_dim\": 768, \"n_layers\": 12, \"n_heads\": 12},\n",
    "    \"gpt2-medium (355M)\": {\"emb_dim\": 1024, \"n_layers\": 24, \"n_heads\": 16},\n",
    "    \"gpt2-large (774M)\": {\"emb_dim\": 1280, \"n_layers\": 36, \"n_heads\": 20},\n",
    "    \"gpt2-xl (1558M)\": {\"emb_dim\": 1600, \"n_layers\": 48, \"n_heads\": 25},\n",
    "}\n",
    "\n",
    "BASE_CONFIG.update(model_configs[CHOOSE_MODEL])"
   ]
  },
  {
   "cell_type": "code",
   "execution_count": 9,
   "id": "7ea48fd3-c7b2-4d47-9e0f-a7c6a1a7687b",
   "metadata": {},
   "outputs": [],
   "source": [
    "model = GPTModel(BASE_CONFIG)"
   ]
  },
  {
   "cell_type": "code",
   "execution_count": 22,
   "id": "29908b21-8245-4691-8bd8-40cb24a4bcb5",
   "metadata": {},
   "outputs": [
    {
     "name": "stdout",
     "output_type": "stream",
     "text": [
      "File already exists and is up-to-date: gpt2/124M/checkpoint\n",
      "File already exists and is up-to-date: gpt2/124M/encoder.json\n",
      "File already exists and is up-to-date: gpt2/124M/hparams.json\n",
      "File already exists and is up-to-date: gpt2/124M/model.ckpt.data-00000-of-00001\n",
      "File already exists and is up-to-date: gpt2/124M/model.ckpt.index\n",
      "File already exists and is up-to-date: gpt2/124M/model.ckpt.meta\n",
      "File already exists and is up-to-date: gpt2/124M/vocab.bpe\n"
     ]
    }
   ],
   "source": [
    "model_size = CHOOSE_MODEL.split(\" \")[-1].lstrip(\"(\").rstrip(\")\")\n",
    "settings, params = download_and_load_gpt2(model_size=model_size, models_dir=\"gpt2\")\n",
    "\n",
    "model = GPTModel(BASE_CONFIG)\n",
    "load_weights_into_gpt(model, params)\n",
    "model.eval();"
   ]
  },
  {
   "cell_type": "code",
   "execution_count": 37,
   "id": "19aa6e14-3057-4eee-a2cf-ad223b1e4a08",
   "metadata": {},
   "outputs": [
    {
     "name": "stdout",
     "output_type": "stream",
     "text": [
      "Every effort moves you forward.\n",
      "\n",
      "The first step is to understand the importance of your work\n"
     ]
    }
   ],
   "source": [
    "# try the pretrained model and make sure it is loaded correctly \n",
    "text_1 = \"Every effort moves you\"\n",
    "\n",
    "token_ids = generate_text_simple(\n",
    "    model=model,\n",
    "    idx=text_to_token_ids(text_1, tokenizer),\n",
    "    max_new_tokens=15,\n",
    "    context_size=BASE_CONFIG[\"context_length\"]\n",
    ")\n",
    "\n",
    "print(token_ids_to_text(token_ids, tokenizer))"
   ]
  },
  {
   "cell_type": "markdown",
   "id": "eb946a0c-bd69-477d-aa0e-0a597970d12c",
   "metadata": {},
   "source": [
    "### Modify the architecture of the base model"
   ]
  },
  {
   "cell_type": "markdown",
   "id": "341f61f7-b225-4264-99e2-321a27fca161",
   "metadata": {
    "jp-MarkdownHeadingCollapsed": true
   },
   "source": [
    "#### LoRA"
   ]
  },
  {
   "cell_type": "markdown",
   "id": "b6980e5d-8776-468d-b409-60290bcfad23",
   "metadata": {},
   "source": [
    "We first need to define the out head with number of class."
   ]
  },
  {
   "cell_type": "code",
   "execution_count": 9,
   "id": "0e56e590-ff56-48af-969d-73f30df82d44",
   "metadata": {},
   "outputs": [],
   "source": [
    "torch.manual_seed(123)\n",
    "num_classes = 5\n",
    "model.out_head = torch.nn.Linear(in_features=768, out_features=num_classes)"
   ]
  },
  {
   "cell_type": "markdown",
   "id": "ea9220d6-aba9-495f-9fe6-ff5a591eec9e",
   "metadata": {},
   "source": [
    "Before applying LoRA, we first freeze all parameters in the model. We can see after we have freezed the model, there was 0 trainable parameter."
   ]
  },
  {
   "cell_type": "code",
   "execution_count": 10,
   "id": "de93ca7b-853e-4363-be89-9678dff541a6",
   "metadata": {},
   "outputs": [
    {
     "name": "stdout",
     "output_type": "stream",
     "text": [
      "Total trainable parameters before: 124,443,653\n",
      "Total trainable parameters after: 0\n"
     ]
    }
   ],
   "source": [
    "total_params = sum(p.numel() for p in model.parameters() if p.requires_grad)\n",
    "print(f\"Total trainable parameters before: {total_params:,}\")\n",
    " \n",
    "for param in model.parameters():\n",
    "    param.requires_grad = False\n",
    " \n",
    "total_params = sum(p.numel() for p in model.parameters() if p.requires_grad)\n",
    "print(f\"Total trainable parameters after: {total_params:,}\")"
   ]
  },
  {
   "cell_type": "markdown",
   "id": "5538404c-ebfc-4172-b372-97842960b96c",
   "metadata": {},
   "source": [
    "Then we can apply LoRA to the model. Note Rank is a hyper parameter which is the inner dimmension of matrix A and matrix B. Alpha is the scaling factor or strengh of LoRA. It is the degree to which the output from the adapted layer can impact the original layer's output."
   ]
  },
  {
   "cell_type": "code",
   "execution_count": 11,
   "id": "bedc5d27-810e-45f2-bbb4-a85364d45ec5",
   "metadata": {},
   "outputs": [
    {
     "name": "stdout",
     "output_type": "stream",
     "text": [
      "Total trainable LoRA parameters: 2,666,576\n"
     ]
    }
   ],
   "source": [
    "replace_linear_with_lora(model, rank=16, alpha=16)\n",
    "total_params = sum(p.numel() for p in model.parameters() if p.requires_grad)\n",
    "print(f\"Total trainable LoRA parameters: {total_params:,}\")"
   ]
  },
  {
   "cell_type": "markdown",
   "id": "31ec85d8-afa9-4d88-b0f7-b07edf68400f",
   "metadata": {},
   "source": [
    "As we can see, the number of trainable parameters decreases drastically due to low rank representation of the original model."
   ]
  },
  {
   "cell_type": "markdown",
   "id": "5885ac2d-656f-406d-abc5-d20cff2bc5ee",
   "metadata": {},
   "source": [
    "#### Finetune with all layers"
   ]
  },
  {
   "cell_type": "code",
   "execution_count": 12,
   "id": "bd28fe79-39ad-4fd4-82a5-6a9e91761b59",
   "metadata": {},
   "outputs": [],
   "source": [
    "num_classes = 2\n",
    "model.out_head = torch.nn.Linear(in_features=BASE_CONFIG[\"emb_dim\"], out_features=num_classes)"
   ]
  },
  {
   "cell_type": "markdown",
   "id": "8b4e4a2d-910a-4b5f-8a7e-fc5485c03705",
   "metadata": {
    "jp-MarkdownHeadingCollapsed": true
   },
   "source": [
    "#### Finetune with some layers"
   ]
  },
  {
   "cell_type": "code",
   "execution_count": 23,
   "id": "ba2e1f26-1063-4e66-9de5-557b5357d60d",
   "metadata": {},
   "outputs": [],
   "source": [
    "for param in model.parameters():\n",
    "    param.requires_grad = False"
   ]
  },
  {
   "cell_type": "code",
   "execution_count": 24,
   "id": "7b244106-dc90-4845-88ec-a0f6a00a08d8",
   "metadata": {},
   "outputs": [],
   "source": [
    "num_classes = 2\n",
    "model.out_head = torch.nn.Linear(in_features=BASE_CONFIG[\"emb_dim\"], out_features=num_classes)"
   ]
  },
  {
   "cell_type": "code",
   "execution_count": 25,
   "id": "93c1b2a6-2ea9-4096-a293-886fe637c378",
   "metadata": {},
   "outputs": [],
   "source": [
    "for param in model.trf_blocks[-1].parameters():\n",
    "    param.requires_grad = True\n",
    "\n",
    "for param in model.trf_blocks[-2].parameters():\n",
    "    param.requires_grad = True\n",
    "\n",
    "#for param in model.trf_blocks[-3].parameters():\n",
    "    #param.requires_grad = True\n",
    "    \n",
    "for param in model.final_norm.parameters():\n",
    "    param.requires_grad = True"
   ]
  },
  {
   "cell_type": "markdown",
   "id": "744a5d92-4381-415b-9bcc-11358c678e61",
   "metadata": {},
   "source": [
    "## Training"
   ]
  },
  {
   "cell_type": "markdown",
   "id": "a4043067-1db0-44c3-9c56-8f4550aab56e",
   "metadata": {
    "jp-MarkdownHeadingCollapsed": true
   },
   "source": [
    "### LoRA Training"
   ]
  },
  {
   "cell_type": "markdown",
   "id": "57e1d72f-2d6b-4c60-ab32-0fafbfbf4bb4",
   "metadata": {},
   "source": [
    "We first evaluate the model without training"
   ]
  },
  {
   "cell_type": "code",
   "execution_count": 19,
   "id": "772a2fd9-f155-421b-b9d1-4e64e90a5584",
   "metadata": {},
   "outputs": [
    {
     "name": "stdout",
     "output_type": "stream",
     "text": [
      "Training accuracy: 19.50%\n",
      "Validation accuracy: 19.25%\n",
      "Test accuracy: 19.81%\n"
     ]
    }
   ],
   "source": [
    "torch.manual_seed(42) # For reproducibility due to the shuffling in the training data loader\n",
    "\n",
    "model = torch.nn.DataParallel(model)\n",
    "model.to(device)\n",
    "\n",
    "train_accuracy = calc_accuracy_loader(train_loader, model, device, num_batches=50)\n",
    "val_accuracy = calc_accuracy_loader(val_loader, model, device, num_batches=50)\n",
    "test_accuracy = calc_accuracy_loader(test_loader, model, device, num_batches=50)\n",
    "\n",
    "print(f\"Training accuracy: {train_accuracy*100:.2f}%\")\n",
    "print(f\"Validation accuracy: {val_accuracy*100:.2f}%\")\n",
    "print(f\"Test accuracy: {test_accuracy*100:.2f}%\")"
   ]
  },
  {
   "cell_type": "markdown",
   "id": "76ef13a0-25df-4558-b771-3b8540fcde22",
   "metadata": {},
   "source": [
    "As we can see here, the accuracy is similar to random guess. Accuracy across all loaders is similar because we use stratified sampling. Now we can train models here with imported functions."
   ]
  },
  {
   "cell_type": "code",
   "execution_count": 14,
   "id": "672b0892-0e00-4bab-a2c3-c5ff16db4918",
   "metadata": {},
   "outputs": [
    {
     "name": "stdout",
     "output_type": "stream",
     "text": [
      "Ep 1 (Step 000000): Train loss 3.362, Val loss 3.410\n",
      "Ep 1 (Step 000050): Train loss 1.629, Val loss 1.630\n",
      "Ep 1 (Step 000100): Train loss 1.582, Val loss 1.601\n",
      "Ep 1 (Step 000150): Train loss 1.576, Val loss 1.615\n",
      "Ep 1 (Step 000200): Train loss 1.599, Val loss 1.621\n",
      "Ep 1 (Step 000250): Train loss 1.165, Val loss 1.165\n",
      "Ep 1 (Step 000300): Train loss 1.056, Val loss 1.163\n",
      "Ep 1 (Step 000350): Train loss 1.037, Val loss 0.996\n",
      "Ep 1 (Step 000400): Train loss 1.017, Val loss 0.926\n",
      "Ep 1 (Step 000450): Train loss 0.995, Val loss 0.901\n",
      "Ep 1 (Step 000500): Train loss 0.866, Val loss 0.921\n",
      "Ep 1 (Step 000550): Train loss 1.038, Val loss 1.039\n",
      "Ep 1 (Step 000600): Train loss 0.907, Val loss 0.886\n",
      "Ep 1 (Step 000650): Train loss 0.869, Val loss 0.878\n",
      "Ep 1 (Step 000700): Train loss 0.994, Val loss 0.944\n",
      "Ep 1 (Step 000750): Train loss 0.988, Val loss 0.904\n",
      "Ep 1 (Step 000800): Train loss 0.889, Val loss 0.870\n",
      "Ep 1 (Step 000850): Train loss 0.863, Val loss 0.865\n",
      "Ep 1 (Step 000900): Train loss 0.861, Val loss 0.877\n",
      "Ep 1 (Step 000950): Train loss 0.852, Val loss 0.869\n",
      "Ep 1 (Step 001000): Train loss 0.862, Val loss 0.865\n",
      "Ep 1 (Step 001050): Train loss 0.936, Val loss 0.854\n",
      "Ep 1 (Step 001100): Train loss 0.892, Val loss 0.834\n",
      "Ep 1 (Step 001150): Train loss 0.845, Val loss 0.892\n",
      "Ep 1 (Step 001200): Train loss 0.947, Val loss 0.928\n",
      "Ep 1 (Step 001250): Train loss 0.878, Val loss 0.902\n",
      "Ep 1 (Step 001300): Train loss 0.947, Val loss 0.882\n",
      "Ep 1 (Step 001350): Train loss 0.870, Val loss 0.887\n",
      "Ep 1 (Step 001400): Train loss 0.915, Val loss 0.825\n",
      "Ep 1 (Step 001450): Train loss 0.883, Val loss 0.947\n",
      "Ep 1 (Step 001500): Train loss 0.857, Val loss 0.853\n",
      "Ep 1 (Step 001550): Train loss 0.847, Val loss 0.871\n",
      "Ep 1 (Step 001600): Train loss 0.889, Val loss 0.797\n",
      "Ep 1 (Step 001650): Train loss 0.852, Val loss 0.833\n",
      "Ep 1 (Step 001700): Train loss 0.856, Val loss 0.791\n",
      "Ep 1 (Step 001750): Train loss 0.910, Val loss 0.854\n",
      "Ep 1 (Step 001800): Train loss 0.805, Val loss 0.860\n",
      "Ep 1 (Step 001850): Train loss 0.866, Val loss 0.947\n",
      "Ep 1 (Step 001900): Train loss 0.887, Val loss 0.808\n",
      "Ep 1 (Step 001950): Train loss 0.912, Val loss 0.873\n",
      "Ep 1 (Step 002000): Train loss 0.929, Val loss 0.841\n",
      "Ep 1 (Step 002050): Train loss 0.706, Val loss 0.850\n",
      "Ep 1 (Step 002100): Train loss 0.838, Val loss 0.865\n",
      "Ep 1 (Step 002150): Train loss 0.761, Val loss 0.822\n",
      "Ep 1 (Step 002200): Train loss 0.817, Val loss 0.809\n",
      "Ep 1 (Step 002250): Train loss 0.823, Val loss 0.853\n",
      "Ep 1 (Step 002300): Train loss 0.802, Val loss 0.839\n",
      "Ep 1 (Step 002350): Train loss 0.841, Val loss 0.853\n",
      "Ep 1 (Step 002400): Train loss 0.869, Val loss 0.807\n",
      "Ep 1 (Step 002450): Train loss 0.866, Val loss 0.859\n",
      "Ep 1 (Step 002500): Train loss 0.808, Val loss 0.805\n",
      "Ep 1 (Step 002550): Train loss 0.853, Val loss 0.829\n",
      "Ep 1 (Step 002600): Train loss 0.915, Val loss 0.886\n",
      "Ep 1 (Step 002650): Train loss 0.837, Val loss 0.854\n",
      "Ep 1 (Step 002700): Train loss 0.782, Val loss 0.799\n",
      "Ep 1 (Step 002750): Train loss 0.789, Val loss 0.836\n",
      "Ep 1 (Step 002800): Train loss 0.747, Val loss 0.797\n",
      "Ep 1 (Step 002850): Train loss 0.769, Val loss 0.833\n",
      "Ep 1 (Step 002900): Train loss 0.807, Val loss 0.772\n",
      "Ep 1 (Step 002950): Train loss 0.780, Val loss 0.798\n",
      "Ep 1 (Step 003000): Train loss 0.777, Val loss 0.753\n",
      "Ep 1 (Step 003050): Train loss 0.782, Val loss 0.789\n",
      "Ep 1 (Step 003100): Train loss 0.849, Val loss 0.803\n",
      "Ep 1 (Step 003150): Train loss 0.851, Val loss 0.809\n",
      "Ep 1 (Step 003200): Train loss 0.883, Val loss 0.831\n",
      "Ep 1 (Step 003250): Train loss 0.824, Val loss 0.822\n",
      "Ep 1 (Step 003300): Train loss 0.844, Val loss 0.824\n",
      "Ep 1 (Step 003350): Train loss 0.896, Val loss 0.807\n",
      "Ep 1 (Step 003400): Train loss 0.801, Val loss 0.868\n",
      "Ep 1 (Step 003450): Train loss 0.845, Val loss 0.803\n",
      "Ep 1 (Step 003500): Train loss 0.755, Val loss 0.818\n",
      "Ep 1 (Step 003550): Train loss 0.764, Val loss 0.802\n",
      "Ep 1 (Step 003600): Train loss 0.844, Val loss 0.775\n",
      "Ep 1 (Step 003650): Train loss 0.800, Val loss 0.829\n",
      "Ep 1 (Step 003700): Train loss 0.751, Val loss 0.776\n",
      "Ep 1 (Step 003750): Train loss 0.769, Val loss 0.804\n",
      "Ep 1 (Step 003800): Train loss 0.815, Val loss 0.820\n",
      "Ep 1 (Step 003850): Train loss 0.910, Val loss 0.774\n",
      "Ep 1 (Step 003900): Train loss 0.806, Val loss 0.809\n",
      "Ep 1 (Step 003950): Train loss 0.879, Val loss 0.831\n",
      "Ep 1 (Step 004000): Train loss 0.764, Val loss 0.856\n",
      "Ep 1 (Step 004050): Train loss 0.746, Val loss 0.798\n",
      "Ep 1 (Step 004100): Train loss 0.828, Val loss 0.836\n",
      "Ep 1 (Step 004150): Train loss 0.822, Val loss 0.861\n",
      "Ep 1 (Step 004200): Train loss 0.772, Val loss 0.834\n",
      "Ep 1 (Step 004250): Train loss 0.874, Val loss 0.776\n",
      "Ep 1 (Step 004300): Train loss 0.763, Val loss 0.767\n",
      "Ep 1 (Step 004350): Train loss 0.850, Val loss 0.807\n",
      "Ep 1 (Step 004400): Train loss 0.733, Val loss 0.825\n",
      "Ep 1 (Step 004450): Train loss 0.908, Val loss 0.932\n",
      "Ep 1 (Step 004500): Train loss 0.859, Val loss 0.848\n",
      "Ep 1 (Step 004550): Train loss 1.164, Val loss 1.143\n",
      "Ep 1 (Step 004600): Train loss 0.848, Val loss 0.884\n",
      "Ep 1 (Step 004650): Train loss 0.843, Val loss 0.876\n",
      "Ep 1 (Step 004700): Train loss 0.858, Val loss 0.835\n",
      "Ep 1 (Step 004750): Train loss 0.742, Val loss 0.806\n",
      "Ep 1 (Step 004800): Train loss 0.857, Val loss 0.799\n",
      "Ep 1 (Step 004850): Train loss 0.782, Val loss 0.823\n",
      "Ep 1 (Step 004900): Train loss 0.739, Val loss 0.790\n",
      "Ep 1 (Step 004950): Train loss 0.841, Val loss 0.798\n",
      "Ep 1 (Step 005000): Train loss 0.741, Val loss 0.789\n",
      "Ep 1 (Step 005050): Train loss 0.728, Val loss 0.829\n",
      "Ep 1 (Step 005100): Train loss 0.791, Val loss 0.773\n",
      "Ep 1 (Step 005150): Train loss 0.732, Val loss 0.797\n",
      "Ep 1 (Step 005200): Train loss 0.773, Val loss 0.741\n",
      "Ep 1 (Step 005250): Train loss 0.690, Val loss 0.771\n",
      "Ep 1 (Step 005300): Train loss 0.800, Val loss 0.788\n",
      "Ep 1 (Step 005350): Train loss 0.763, Val loss 0.788\n",
      "Ep 1 (Step 005400): Train loss 0.781, Val loss 0.812\n",
      "Ep 1 (Step 005450): Train loss 0.816, Val loss 0.795\n",
      "Ep 1 (Step 005500): Train loss 0.807, Val loss 0.821\n",
      "Ep 1 (Step 005550): Train loss 0.814, Val loss 0.811\n",
      "Ep 1 (Step 005600): Train loss 0.760, Val loss 0.810\n",
      "Ep 1 (Step 005650): Train loss 0.829, Val loss 0.804\n",
      "Ep 1 (Step 005700): Train loss 0.727, Val loss 0.753\n",
      "Ep 1 (Step 005750): Train loss 0.836, Val loss 0.798\n",
      "Ep 1 (Step 005800): Train loss 0.786, Val loss 0.778\n",
      "Ep 1 (Step 005850): Train loss 0.839, Val loss 0.764\n",
      "Ep 1 (Step 005900): Train loss 0.818, Val loss 0.773\n",
      "Ep 1 (Step 005950): Train loss 0.760, Val loss 0.772\n",
      "Ep 1 (Step 006000): Train loss 0.806, Val loss 0.758\n",
      "Ep 1 (Step 006050): Train loss 0.768, Val loss 0.840\n",
      "Ep 1 (Step 006100): Train loss 0.725, Val loss 0.818\n",
      "Ep 1 (Step 006150): Train loss 0.803, Val loss 0.797\n",
      "Ep 1 (Step 006200): Train loss 0.771, Val loss 0.841\n",
      "Ep 1 (Step 006250): Train loss 0.684, Val loss 0.823\n",
      "Ep 1 (Step 006300): Train loss 0.744, Val loss 0.844\n",
      "Ep 1 (Step 006350): Train loss 0.778, Val loss 0.830\n",
      "Ep 1 (Step 006400): Train loss 0.819, Val loss 0.801\n",
      "Ep 1 (Step 006450): Train loss 0.668, Val loss 0.769\n",
      "Ep 1 (Step 006500): Train loss 0.744, Val loss 0.792\n",
      "Ep 1 (Step 006550): Train loss 0.678, Val loss 0.764\n",
      "Ep 1 (Step 006600): Train loss 0.784, Val loss 0.811\n",
      "Ep 1 (Step 006650): Train loss 0.681, Val loss 0.796\n",
      "Ep 1 (Step 006700): Train loss 0.789, Val loss 0.831\n",
      "Ep 1 (Step 006750): Train loss 0.791, Val loss 0.828\n",
      "Ep 1 (Step 006800): Train loss 0.692, Val loss 0.819\n",
      "Ep 1 (Step 006850): Train loss 0.874, Val loss 0.798\n",
      "Ep 1 (Step 006900): Train loss 0.721, Val loss 0.807\n",
      "Ep 1 (Step 006950): Train loss 0.742, Val loss 0.795\n",
      "Ep 1 (Step 007000): Train loss 0.762, Val loss 0.747\n",
      "Ep 1 (Step 007050): Train loss 0.820, Val loss 0.812\n",
      "Ep 1 (Step 007100): Train loss 0.721, Val loss 0.810\n",
      "Ep 1 (Step 007150): Train loss 0.745, Val loss 0.806\n",
      "Ep 1 (Step 007200): Train loss 0.727, Val loss 0.834\n",
      "Ep 1 (Step 007250): Train loss 0.733, Val loss 0.793\n",
      "Ep 1 (Step 007300): Train loss 0.766, Val loss 0.824\n",
      "Ep 1 (Step 007350): Train loss 0.702, Val loss 0.802\n",
      "Ep 1 (Step 007400): Train loss 0.767, Val loss 0.802\n",
      "Ep 1 (Step 007450): Train loss 0.768, Val loss 0.785\n",
      "Ep 1 (Step 007500): Train loss 0.734, Val loss 0.826\n",
      "Ep 1 (Step 007550): Train loss 0.778, Val loss 0.838\n",
      "Ep 1 (Step 007600): Train loss 0.705, Val loss 0.809\n",
      "Ep 1 (Step 007650): Train loss 0.776, Val loss 0.860\n",
      "Ep 1 (Step 007700): Train loss 0.755, Val loss 0.788\n",
      "Ep 1 (Step 007750): Train loss 0.740, Val loss 0.826\n",
      "Ep 1 (Step 007800): Train loss 0.686, Val loss 0.822\n",
      "Ep 1 (Step 007850): Train loss 0.805, Val loss 0.899\n",
      "Ep 1 (Step 007900): Train loss 0.743, Val loss 0.817\n",
      "Ep 1 (Step 007950): Train loss 0.789, Val loss 0.788\n",
      "Ep 1 (Step 008000): Train loss 0.848, Val loss 0.766\n",
      "Ep 1 (Step 008050): Train loss 0.693, Val loss 0.782\n",
      "Ep 1 (Step 008100): Train loss 0.804, Val loss 0.853\n",
      "Ep 1 (Step 008150): Train loss 0.738, Val loss 0.782\n",
      "Ep 1 (Step 008200): Train loss 0.704, Val loss 0.761\n",
      "Ep 1 (Step 008250): Train loss 0.815, Val loss 0.825\n",
      "Ep 1 (Step 008300): Train loss 0.726, Val loss 0.811\n",
      "Ep 1 (Step 008350): Train loss 0.775, Val loss 0.795\n",
      "Ep 1 (Step 008400): Train loss 0.834, Val loss 0.831\n",
      "Ep 1 (Step 008450): Train loss 0.759, Val loss 0.807\n",
      "Ep 1 (Step 008500): Train loss 0.805, Val loss 0.764\n",
      "Ep 1 (Step 008550): Train loss 0.778, Val loss 0.824\n",
      "Ep 1 (Step 008600): Train loss 0.681, Val loss 0.798\n",
      "Ep 1 (Step 008650): Train loss 0.741, Val loss 0.848\n",
      "Ep 1 (Step 008700): Train loss 0.654, Val loss 0.818\n",
      "Ep 1 (Step 008750): Train loss 0.645, Val loss 0.849\n",
      "Ep 1 (Step 008800): Train loss 0.735, Val loss 0.844\n",
      "Ep 1 (Step 008850): Train loss 0.772, Val loss 0.796\n",
      "Ep 1 (Step 008900): Train loss 0.735, Val loss 0.857\n",
      "Ep 1 (Step 008950): Train loss 0.705, Val loss 0.808\n",
      "Ep 1 (Step 009000): Train loss 0.789, Val loss 0.812\n",
      "Ep 1 (Step 009050): Train loss 0.818, Val loss 0.829\n",
      "Ep 1 (Step 009100): Train loss 0.691, Val loss 0.828\n",
      "Ep 1 (Step 009150): Train loss 0.691, Val loss 0.815\n",
      "Ep 1 (Step 009200): Train loss 0.636, Val loss 0.856\n",
      "Ep 1 (Step 009250): Train loss 0.815, Val loss 0.838\n",
      "Ep 1 (Step 009300): Train loss 0.758, Val loss 0.835\n",
      "Ep 1 (Step 009350): Train loss 0.712, Val loss 0.778\n",
      "Ep 1 (Step 009400): Train loss 0.718, Val loss 0.838\n",
      "Ep 1 (Step 009450): Train loss 0.681, Val loss 0.816\n",
      "Ep 1 (Step 009500): Train loss 0.765, Val loss 0.805\n",
      "Ep 1 (Step 009550): Train loss 0.815, Val loss 0.874\n",
      "Ep 1 (Step 009600): Train loss 0.669, Val loss 0.814\n",
      "Ep 1 (Step 009650): Train loss 0.778, Val loss 0.816\n",
      "Ep 1 (Step 009700): Train loss 0.730, Val loss 0.816\n",
      "Ep 1 (Step 009750): Train loss 0.786, Val loss 0.792\n",
      "Ep 1 (Step 009800): Train loss 0.795, Val loss 0.811\n",
      "Ep 1 (Step 009850): Train loss 0.730, Val loss 0.796\n",
      "Ep 1 (Step 009900): Train loss 0.698, Val loss 0.793\n",
      "Ep 1 (Step 009950): Train loss 0.713, Val loss 0.818\n",
      "Ep 1 (Step 010000): Train loss 0.718, Val loss 0.798\n",
      "Ep 1 (Step 010050): Train loss 0.700, Val loss 0.782\n",
      "Ep 1 (Step 010100): Train loss 0.723, Val loss 0.800\n",
      "Ep 1 (Step 010150): Train loss 0.779, Val loss 0.794\n",
      "Ep 1 (Step 010200): Train loss 0.885, Val loss 0.799\n",
      "Ep 1 (Step 010250): Train loss 0.788, Val loss 0.809\n",
      "Ep 1 (Step 010300): Train loss 0.733, Val loss 0.852\n",
      "Ep 1 (Step 010350): Train loss 0.799, Val loss 0.809\n",
      "Ep 1 (Step 010400): Train loss 0.796, Val loss 0.796\n",
      "Ep 1 (Step 010450): Train loss 0.760, Val loss 0.792\n",
      "Ep 1 (Step 010500): Train loss 0.756, Val loss 0.780\n",
      "Ep 1 (Step 010550): Train loss 0.758, Val loss 0.786\n",
      "Ep 1 (Step 010600): Train loss 0.740, Val loss 0.861\n",
      "Ep 1 (Step 010650): Train loss 0.725, Val loss 0.818\n",
      "Ep 1 (Step 010700): Train loss 0.924, Val loss 0.793\n",
      "Ep 1 (Step 010750): Train loss 0.742, Val loss 0.801\n",
      "Ep 1 (Step 010800): Train loss 0.726, Val loss 0.824\n",
      "Ep 1 (Step 010850): Train loss 0.714, Val loss 0.762\n",
      "Ep 1 (Step 010900): Train loss 0.751, Val loss 0.812\n",
      "Ep 1 (Step 010950): Train loss 0.820, Val loss 0.835\n",
      "Ep 1 (Step 011000): Train loss 0.785, Val loss 0.796\n",
      "Ep 1 (Step 011050): Train loss 0.928, Val loss 0.846\n",
      "Ep 1 (Step 011100): Train loss 0.711, Val loss 0.799\n",
      "Ep 1 (Step 011150): Train loss 0.770, Val loss 0.798\n",
      "Ep 1 (Step 011200): Train loss 0.819, Val loss 0.795\n",
      "Ep 1 (Step 011250): Train loss 0.711, Val loss 0.858\n",
      "Ep 1 (Step 011300): Train loss 0.714, Val loss 0.800\n",
      "Ep 1 (Step 011350): Train loss 0.841, Val loss 0.811\n",
      "Ep 1 (Step 011400): Train loss 0.701, Val loss 0.792\n",
      "Ep 1 (Step 011450): Train loss 0.793, Val loss 0.800\n",
      "Ep 1 (Step 011500): Train loss 0.908, Val loss 0.798\n",
      "Ep 1 (Step 011550): Train loss 0.730, Val loss 0.818\n",
      "Ep 1 (Step 011600): Train loss 0.629, Val loss 0.821\n",
      "Ep 1 (Step 011650): Train loss 0.721, Val loss 0.819\n",
      "Ep 1 (Step 011700): Train loss 0.700, Val loss 0.804\n",
      "Ep 1 (Step 011750): Train loss 0.695, Val loss 0.800\n",
      "Ep 1 (Step 011800): Train loss 0.699, Val loss 0.861\n",
      "Ep 1 (Step 011850): Train loss 0.774, Val loss 0.841\n",
      "Ep 1 (Step 011900): Train loss 0.780, Val loss 0.827\n",
      "Ep 1 (Step 011950): Train loss 0.735, Val loss 0.815\n",
      "Ep 1 (Step 012000): Train loss 0.736, Val loss 0.842\n",
      "Ep 1 (Step 012050): Train loss 0.807, Val loss 0.798\n",
      "Ep 1 (Step 012100): Train loss 0.696, Val loss 0.815\n",
      "Ep 1 (Step 012150): Train loss 0.639, Val loss 0.809\n",
      "Ep 1 (Step 012200): Train loss 0.716, Val loss 0.824\n",
      "Ep 1 (Step 012250): Train loss 0.829, Val loss 0.837\n",
      "Ep 1 (Step 012300): Train loss 0.700, Val loss 0.813\n",
      "Ep 1 (Step 012350): Train loss 0.673, Val loss 0.823\n",
      "Ep 1 (Step 012400): Train loss 0.703, Val loss 0.852\n",
      "Ep 1 (Step 012450): Train loss 0.689, Val loss 0.797\n",
      "Ep 1 (Step 012500): Train loss 0.695, Val loss 0.823\n",
      "Ep 1 (Step 012550): Train loss 0.836, Val loss 0.809\n",
      "Ep 1 (Step 012600): Train loss 0.754, Val loss 0.817\n",
      "Ep 1 (Step 012650): Train loss 0.730, Val loss 0.835\n",
      "Ep 1 (Step 012700): Train loss 0.682, Val loss 0.850\n",
      "Ep 1 (Step 012750): Train loss 0.799, Val loss 0.817\n",
      "Ep 1 (Step 012800): Train loss 0.773, Val loss 0.828\n",
      "Ep 1 (Step 012850): Train loss 0.745, Val loss 0.894\n",
      "Ep 1 (Step 012900): Train loss 0.757, Val loss 0.799\n",
      "Ep 1 (Step 012950): Train loss 0.768, Val loss 0.806\n",
      "Ep 1 (Step 013000): Train loss 0.822, Val loss 0.802\n",
      "Ep 1 (Step 013050): Train loss 0.626, Val loss 0.797\n",
      "Ep 1 (Step 013100): Train loss 0.746, Val loss 0.814\n",
      "Ep 1 (Step 013150): Train loss 0.777, Val loss 0.835\n",
      "Ep 1 (Step 013200): Train loss 0.772, Val loss 0.855\n",
      "Ep 1 (Step 013250): Train loss 0.674, Val loss 0.869\n",
      "Ep 1 (Step 013300): Train loss 0.685, Val loss 0.798\n",
      "Ep 1 (Step 013350): Train loss 0.758, Val loss 0.806\n",
      "Ep 1 (Step 013400): Train loss 0.745, Val loss 0.805\n",
      "Ep 1 (Step 013450): Train loss 0.769, Val loss 0.885\n",
      "Ep 1 (Step 013500): Train loss 0.811, Val loss 0.825\n",
      "Ep 1 (Step 013550): Train loss 0.749, Val loss 0.796\n",
      "Ep 1 (Step 013600): Train loss 0.737, Val loss 0.819\n",
      "Ep 1 (Step 013650): Train loss 0.693, Val loss 0.852\n",
      "Ep 1 (Step 013700): Train loss 0.749, Val loss 0.840\n",
      "Ep 1 (Step 013750): Train loss 0.667, Val loss 0.814\n",
      "Ep 1 (Step 013800): Train loss 0.767, Val loss 0.816\n",
      "Ep 1 (Step 013850): Train loss 0.721, Val loss 0.863\n",
      "Ep 1 (Step 013900): Train loss 0.780, Val loss 0.862\n",
      "Ep 1 (Step 013950): Train loss 0.792, Val loss 0.851\n",
      "Ep 1 (Step 014000): Train loss 0.703, Val loss 0.828\n",
      "Ep 1 (Step 014050): Train loss 0.747, Val loss 0.844\n",
      "Ep 1 (Step 014100): Train loss 0.696, Val loss 0.825\n",
      "Ep 1 (Step 014150): Train loss 0.734, Val loss 0.857\n",
      "Ep 1 (Step 014200): Train loss 0.732, Val loss 0.819\n",
      "Ep 1 (Step 014250): Train loss 0.653, Val loss 0.800\n",
      "Ep 1 (Step 014300): Train loss 0.700, Val loss 0.807\n",
      "Ep 1 (Step 014350): Train loss 0.737, Val loss 0.783\n",
      "Ep 1 (Step 014400): Train loss 0.640, Val loss 0.784\n",
      "Ep 1 (Step 014450): Train loss 0.682, Val loss 0.819\n",
      "Ep 1 (Step 014500): Train loss 0.797, Val loss 0.819\n",
      "Ep 1 (Step 014550): Train loss 0.766, Val loss 0.810\n",
      "Ep 1 (Step 014600): Train loss 0.754, Val loss 0.810\n",
      "Ep 1 (Step 014650): Train loss 0.786, Val loss 0.853\n",
      "Ep 1 (Step 014700): Train loss 0.779, Val loss 0.838\n",
      "Ep 1 (Step 014750): Train loss 0.799, Val loss 0.802\n",
      "Ep 1 (Step 014800): Train loss 0.731, Val loss 0.857\n",
      "Ep 1 (Step 014850): Train loss 0.743, Val loss 0.807\n",
      "Ep 1 (Step 014900): Train loss 0.723, Val loss 0.809\n",
      "Ep 1 (Step 014950): Train loss 0.751, Val loss 0.838\n",
      "Ep 1 (Step 015000): Train loss 0.784, Val loss 0.828\n",
      "Ep 1 (Step 015050): Train loss 0.785, Val loss 0.854\n",
      "Ep 1 (Step 015100): Train loss 0.724, Val loss 0.806\n",
      "Ep 1 (Step 015150): Train loss 0.679, Val loss 0.832\n",
      "Ep 1 (Step 015200): Train loss 0.785, Val loss 0.832\n",
      "Ep 1 (Step 015250): Train loss 0.823, Val loss 0.781\n",
      "Ep 1 (Step 015300): Train loss 0.765, Val loss 0.780\n",
      "Ep 1 (Step 015350): Train loss 0.763, Val loss 0.824\n",
      "Ep 1 (Step 015400): Train loss 0.708, Val loss 0.813\n",
      "Ep 1 (Step 015450): Train loss 0.796, Val loss 0.797\n",
      "Ep 1 (Step 015500): Train loss 0.756, Val loss 0.799\n",
      "Ep 1 (Step 015550): Train loss 0.814, Val loss 0.820\n",
      "Ep 1 (Step 015600): Train loss 0.888, Val loss 0.839\n",
      "Ep 1 (Step 015650): Train loss 0.755, Val loss 0.809\n",
      "Ep 1 (Step 015700): Train loss 0.717, Val loss 0.785\n",
      "Ep 1 (Step 015750): Train loss 0.676, Val loss 0.807\n",
      "Ep 1 (Step 015800): Train loss 0.763, Val loss 0.800\n",
      "Ep 1 (Step 015850): Train loss 0.737, Val loss 0.806\n",
      "Ep 1 (Step 015900): Train loss 0.796, Val loss 0.818\n",
      "Ep 1 (Step 015950): Train loss 0.776, Val loss 0.821\n",
      "Ep 1 (Step 016000): Train loss 0.682, Val loss 0.819\n",
      "Ep 1 (Step 016050): Train loss 0.708, Val loss 0.826\n",
      "Ep 1 (Step 016100): Train loss 0.680, Val loss 0.817\n",
      "Ep 1 (Step 016150): Train loss 0.698, Val loss 0.834\n",
      "Ep 1 (Step 016200): Train loss 0.822, Val loss 0.776\n",
      "Training accuracy: 69.38% | Validation accuracy: 63.12%\n",
      "Training completed in 98.48 minutes.\n"
     ]
    }
   ],
   "source": [
    "# epoch 1\n",
    "import time\n",
    "from train import *\n",
    "start_time = time.time()\n",
    "\n",
    "optimizer = torch.optim.AdamW(model.parameters(), lr=5e-5, weight_decay=0.01)\n",
    "\n",
    "num_epochs = 1\n",
    "train_losses, val_losses, train_accs, val_accs, examples_seen = train_classifier_simple(\n",
    "    model, train_loader, val_loader, optimizer, device,\n",
    "    num_epochs=num_epochs, eval_freq=50, eval_iter=5,\n",
    "    tokenizer=tokenizer\n",
    ")\n",
    "\n",
    "end_time = time.time()\n",
    "execution_time_minutes = (end_time - start_time) / 60\n",
    "print(f\"Training completed in {execution_time_minutes:.2f} minutes.\")"
   ]
  },
  {
   "cell_type": "code",
   "execution_count": 15,
   "id": "be53e025-1e67-4423-9e1e-256a8a59b23e",
   "metadata": {},
   "outputs": [
    {
     "data": {
      "image/png": "[encoded data removed]",
      "text/plain": [
       "<Figure size 500x300 with 2 Axes>"
      ]
     },
     "metadata": {},
     "output_type": "display_data"
    }
   ],
   "source": [
    "# plot\n",
    "epochs_tensor = torch.linspace(0, num_epochs, len(train_losses))\n",
    "examples_seen_tensor = torch.linspace(0, examples_seen, len(train_losses))\n",
    " \n",
    "plot_values(epochs_tensor, examples_seen_tensor, train_losses, val_losses)"
   ]
  },
  {
   "cell_type": "markdown",
   "id": "c2d92b09-2229-4b2a-bc4d-5937421c3633",
   "metadata": {},
   "source": [
    "As we can see here, the loss is very high at the begaining. But as we train more steps, the loss for validation and training decreased. At the end of the first epoch, our accuracy is much higher than the un-trained model."
   ]
  },
  {
   "cell_type": "code",
   "execution_count": 13,
   "id": "ac185ee9-a332-40c1-bd1f-2f5551d1de64",
   "metadata": {},
   "outputs": [
    {
     "name": "stdout",
     "output_type": "stream",
     "text": [
      "Accuracy: 0.67\n",
      "Confusion Matrix:\n",
      "[[7980 1812  127   27   54]\n",
      " [1998 6421 1402  113   66]\n",
      " [ 284 2076 5867 1507  266]\n",
      " [  82  183 1647 5440 2648]\n",
      " [  99   45  201 1859 7796]]\n"
     ]
    },
    {
     "data": {
      "text/plain": [
       "array([[7980, 1812,  127,   27,   54],\n",
       "       [1998, 6421, 1402,  113,   66],\n",
       "       [ 284, 2076, 5867, 1507,  266],\n",
       "       [  82,  183, 1647, 5440, 2648],\n",
       "       [  99,   45,  201, 1859, 7796]])"
      ]
     },
     "execution_count": 13,
     "metadata": {},
     "output_type": "execute_result"
    }
   ],
   "source": [
    "model.to(device)\n",
    "accuracy_confusion_matrix(model, device, test_loader)"
   ]
  },
  {
   "cell_type": "markdown",
   "id": "f2637f0d-0c09-42a3-8c7d-d0beedcd8574",
   "metadata": {},
   "source": [
    "### Training with all layer"
   ]
  },
  {
   "cell_type": "code",
   "execution_count": 13,
   "id": "9bc77b7b-c28b-4de8-a772-9547d376e42a",
   "metadata": {},
   "outputs": [
    {
     "name": "stdout",
     "output_type": "stream",
     "text": [
      "Total trainable parameters: 124,441,346\n"
     ]
    }
   ],
   "source": [
    "total_params = sum(p.numel() for p in model.parameters() if p.requires_grad)\n",
    "print(f\"Total trainable parameters: {total_params:,}\")"
   ]
  },
  {
   "cell_type": "markdown",
   "id": "5619f6d2-544a-4759-acad-694eef2db05c",
   "metadata": {},
   "source": [
    "Here we have all parameters trainable which means it would take a lot longer to finetune our model"
   ]
  },
  {
   "cell_type": "code",
   "execution_count": 14,
   "id": "3d395e87-5e7a-4d27-960e-17a833056158",
   "metadata": {},
   "outputs": [],
   "source": [
    "# initial optimizer\n",
    "optimizer = torch.optim.AdamW(model.parameters(), lr=5e-5, weight_decay=0.01)"
   ]
  },
  {
   "cell_type": "code",
   "execution_count": 16,
   "id": "701d175c-aab4-4953-85d4-721855689006",
   "metadata": {},
   "outputs": [
    {
     "name": "stdout",
     "output_type": "stream",
     "text": [
      "Ep 1 (Step 000000): Train loss 0.318, Val loss 0.843\n",
      "Ep 1 (Step 000025): Train loss 0.518, Val loss 0.874\n",
      "Ep 1 (Step 000050): Train loss 0.360, Val loss 0.804\n",
      "Ep 1 (Step 000075): Train loss 0.489, Val loss 0.912\n",
      "Ep 1 (Step 000100): Train loss 0.290, Val loss 0.824\n",
      "Ep 1 (Step 000125): Train loss 0.344, Val loss 0.743\n",
      "Ep 1 (Step 000150): Train loss 0.261, Val loss 0.784\n",
      "Ep 1 (Step 000175): Train loss 0.319, Val loss 0.653\n",
      "Training accuracy: 90.00% | Validation accuracy: 65.62%\n",
      "Ep 2 (Step 000200): Train loss 0.308, Val loss 0.729\n",
      "Ep 2 (Step 000225): Train loss 0.278, Val loss 0.789\n",
      "Ep 2 (Step 000250): Train loss 0.256, Val loss 0.971\n",
      "Ep 2 (Step 000275): Train loss 0.197, Val loss 0.808\n",
      "Ep 2 (Step 000300): Train loss 0.241, Val loss 0.785\n",
      "Ep 2 (Step 000325): Train loss 0.241, Val loss 0.957\n",
      "Ep 2 (Step 000350): Train loss 0.274, Val loss 0.758\n",
      "Ep 2 (Step 000375): Train loss 0.175, Val loss 0.807\n",
      "Training accuracy: 91.88% | Validation accuracy: 66.88%\n",
      "Ep 3 (Step 000400): Train loss 0.579, Val loss 1.559\n",
      "Ep 3 (Step 000425): Train loss 0.227, Val loss 0.782\n",
      "Ep 3 (Step 000450): Train loss 0.337, Val loss 0.973\n",
      "Ep 3 (Step 000475): Train loss 0.165, Val loss 0.913\n",
      "Ep 3 (Step 000500): Train loss 0.099, Val loss 0.873\n",
      "Ep 3 (Step 000525): Train loss 0.244, Val loss 1.004\n",
      "Ep 3 (Step 000550): Train loss 0.477, Val loss 1.107\n",
      "Training accuracy: 94.38% | Validation accuracy: 66.88%\n",
      "Ep 4 (Step 000575): Train loss 0.157, Val loss 0.838\n",
      "Ep 4 (Step 000600): Train loss 0.162, Val loss 0.850\n",
      "Ep 4 (Step 000625): Train loss 0.128, Val loss 0.936\n",
      "Ep 4 (Step 000650): Train loss 0.072, Val loss 0.974\n",
      "Ep 4 (Step 000675): Train loss 0.180, Val loss 0.942\n",
      "Ep 4 (Step 000700): Train loss 0.199, Val loss 1.072\n",
      "Ep 4 (Step 000725): Train loss 0.185, Val loss 0.942\n",
      "Ep 4 (Step 000750): Train loss 0.193, Val loss 0.926\n",
      "Training accuracy: 96.88% | Validation accuracy: 65.00%\n",
      "Ep 5 (Step 000775): Train loss 0.150, Val loss 0.968\n",
      "Ep 5 (Step 000800): Train loss 0.064, Val loss 1.148\n",
      "Ep 5 (Step 000825): Train loss 0.082, Val loss 1.065\n",
      "Ep 5 (Step 000850): Train loss 0.076, Val loss 0.958\n",
      "Ep 5 (Step 000875): Train loss 0.066, Val loss 0.961\n",
      "Ep 5 (Step 000900): Train loss 0.151, Val loss 1.078\n",
      "Ep 5 (Step 000925): Train loss 0.124, Val loss 1.013\n",
      "Training accuracy: 96.88% | Validation accuracy: 65.00%\n",
      "Ep 6 (Step 000950): Train loss 0.144, Val loss 0.994\n",
      "Ep 6 (Step 000975): Train loss 0.071, Val loss 0.848\n",
      "Ep 6 (Step 001000): Train loss 0.134, Val loss 1.352\n",
      "Ep 6 (Step 001025): Train loss 0.082, Val loss 1.148\n",
      "Ep 6 (Step 001050): Train loss 0.074, Val loss 1.216\n",
      "Ep 6 (Step 001075): Train loss 0.069, Val loss 1.280\n",
      "Ep 6 (Step 001100): Train loss 0.065, Val loss 1.047\n",
      "Ep 6 (Step 001125): Train loss 0.044, Val loss 1.132\n",
      "Training accuracy: 95.00% | Validation accuracy: 66.88%\n",
      "Ep 7 (Step 001150): Train loss 0.032, Val loss 1.098\n",
      "Ep 7 (Step 001175): Train loss 0.074, Val loss 1.166\n",
      "Ep 7 (Step 001200): Train loss 0.055, Val loss 1.139\n",
      "Ep 7 (Step 001225): Train loss 0.112, Val loss 1.208\n",
      "Ep 7 (Step 001250): Train loss 0.182, Val loss 1.333\n",
      "Ep 7 (Step 001275): Train loss 0.062, Val loss 1.173\n",
      "Ep 7 (Step 001300): Train loss 0.137, Val loss 1.247\n",
      "Ep 7 (Step 001325): Train loss 0.079, Val loss 1.127\n",
      "Training accuracy: 96.88% | Validation accuracy: 66.25%\n",
      "Ep 8 (Step 001350): Train loss 0.062, Val loss 1.413\n",
      "Ep 8 (Step 001375): Train loss 0.097, Val loss 1.222\n",
      "Ep 8 (Step 001400): Train loss 0.013, Val loss 1.293\n",
      "Ep 8 (Step 001425): Train loss 0.029, Val loss 1.341\n",
      "Ep 8 (Step 001450): Train loss 0.099, Val loss 1.253\n",
      "Ep 8 (Step 001475): Train loss 0.049, Val loss 1.152\n",
      "Ep 8 (Step 001500): Train loss 0.056, Val loss 1.063\n",
      "Training accuracy: 99.38% | Validation accuracy: 65.00%\n",
      "Ep 9 (Step 001525): Train loss 0.038, Val loss 1.338\n",
      "Ep 9 (Step 001550): Train loss 0.067, Val loss 1.350\n",
      "Ep 9 (Step 001575): Train loss 0.024, Val loss 1.350\n",
      "Ep 9 (Step 001600): Train loss 0.092, Val loss 1.334\n",
      "Ep 9 (Step 001625): Train loss 0.040, Val loss 1.520\n",
      "Ep 9 (Step 001650): Train loss 0.017, Val loss 1.259\n",
      "Ep 9 (Step 001675): Train loss 0.048, Val loss 1.337\n",
      "Ep 9 (Step 001700): Train loss 0.018, Val loss 1.217\n",
      "Training accuracy: 98.75% | Validation accuracy: 63.12%\n",
      "Ep 10 (Step 001725): Train loss 0.006, Val loss 1.458\n",
      "Ep 10 (Step 001750): Train loss 0.027, Val loss 1.364\n",
      "Ep 10 (Step 001775): Train loss 0.011, Val loss 1.553\n",
      "Ep 10 (Step 001800): Train loss 0.016, Val loss 1.344\n",
      "Ep 10 (Step 001825): Train loss 0.033, Val loss 1.557\n",
      "Ep 10 (Step 001850): Train loss 0.030, Val loss 1.558\n",
      "Ep 10 (Step 001875): Train loss 0.022, Val loss 1.340\n",
      "Training accuracy: 99.38% | Validation accuracy: 65.00%\n",
      "Training completed in 6.90 minutes.\n"
     ]
    },
    {
     "data": {
      "image/png": "[encoded data removed]",
      "text/plain": [
       "<Figure size 500x300 with 2 Axes>"
      ]
     },
     "metadata": {},
     "output_type": "display_data"
    }
   ],
   "source": [
    "import time\n",
    "from train import *\n",
    "start_time = time.time()\n",
    "\n",
    "\n",
    "num_epochs = 10\n",
    "train_losses, val_losses, train_accs, val_accs, examples_seen = train_classifier_simple(\n",
    "    model, train_loader, val_loader, optimizer, device,\n",
    "    num_epochs=num_epochs, eval_freq=25, eval_iter=5,\n",
    "    tokenizer=tokenizer\n",
    ")\n",
    "\n",
    "end_time = time.time()\n",
    "execution_time_minutes = (end_time - start_time) / 60\n",
    "print(f\"Training completed in {execution_time_minutes:.2f} minutes.\")\n",
    "# plot\n",
    "epochs_tensor = torch.linspace(0, num_epochs, len(train_losses))\n",
    "examples_seen_tensor = torch.linspace(0, examples_seen, len(train_losses))\n",
    " \n",
    "plot_values(epochs_tensor, examples_seen_tensor, train_losses, val_losses)"
   ]
  },
  {
   "cell_type": "markdown",
   "id": "4b08bae7-60df-4aa3-8cef-41ed9a90839e",
   "metadata": {},
   "source": [
    "Here the model performed similarly compared to using LoRA. But it takes less time which is unexpected"
   ]
  },
  {
   "cell_type": "code",
   "execution_count": 12,
   "id": "ccbf2386-c110-4f6e-aa78-f53f242d2290",
   "metadata": {},
   "outputs": [
    {
     "name": "stdout",
     "output_type": "stream",
     "text": [
      "Accuracy: 0.68\n",
      "Confusion Matrix:\n",
      "[[8108 1717  102   20   53]\n",
      " [2015 6405 1454   89   37]\n",
      " [ 240 1965 5910 1704  181]\n",
      " [  49  132 1379 6152 2288]\n",
      " [  64   36  136 2163 7601]]\n"
     ]
    },
    {
     "data": {
      "text/plain": [
       "array([[8108, 1717,  102,   20,   53],\n",
       "       [2015, 6405, 1454,   89,   37],\n",
       "       [ 240, 1965, 5910, 1704,  181],\n",
       "       [  49,  132, 1379, 6152, 2288],\n",
       "       [  64,   36,  136, 2163, 7601]])"
      ]
     },
     "execution_count": 12,
     "metadata": {},
     "output_type": "execute_result"
    }
   ],
   "source": [
    "model.to(device)\n",
    "accuracy_confusion_matrix(model, device, test_loader)"
   ]
  },
  {
   "cell_type": "markdown",
   "id": "b0097f5f-4ab7-4c74-a6e6-77c9f089edc5",
   "metadata": {},
   "source": [
    "### Training with some layers"
   ]
  },
  {
   "cell_type": "code",
   "execution_count": 26,
   "id": "ef709eb0-5081-4949-9aa9-96bc363dcd5b",
   "metadata": {},
   "outputs": [
    {
     "name": "stdout",
     "output_type": "stream",
     "text": [
      "Total trainable parameters: 14,178,818\n"
     ]
    }
   ],
   "source": [
    "total_params = sum(p.numel() for p in model.parameters() if p.requires_grad)\n",
    "print(f\"Total trainable parameters: {total_params:,}\")"
   ]
  },
  {
   "cell_type": "code",
   "execution_count": 27,
   "id": "cfc7b4b5-ba7e-4905-9a80-83ad79d8f289",
   "metadata": {},
   "outputs": [],
   "source": [
    "optimizer = torch.optim.AdamW(model.parameters(), lr=5e-5, weight_decay=0.1)"
   ]
  },
  {
   "cell_type": "code",
   "execution_count": 28,
   "id": "9aa220fd-19f8-4667-b467-612b24570255",
   "metadata": {},
   "outputs": [
    {
     "name": "stdout",
     "output_type": "stream",
     "text": [
      "Ep 1 (Step 000000): Train loss 1.414, Val loss 1.306\n",
      "Ep 1 (Step 000025): Train loss 0.782, Val loss 0.720\n",
      "Ep 1 (Step 000050): Train loss 0.761, Val loss 0.697\n",
      "Ep 1 (Step 000075): Train loss 0.708, Val loss 0.695\n",
      "Ep 1 (Step 000100): Train loss 0.721, Val loss 0.706\n",
      "Ep 1 (Step 000125): Train loss 0.750, Val loss 0.712\n",
      "Ep 1 (Step 000150): Train loss 0.669, Val loss 0.680\n",
      "Ep 1 (Step 000175): Train loss 0.700, Val loss 0.687\n",
      "Training accuracy: 48.75% | Validation accuracy: 54.37%\n",
      "Ep 2 (Step 000200): Train loss 0.667, Val loss 0.675\n",
      "Ep 2 (Step 000225): Train loss 0.700, Val loss 0.689\n",
      "Ep 2 (Step 000250): Train loss 0.705, Val loss 0.680\n",
      "Ep 2 (Step 000275): Train loss 0.663, Val loss 0.660\n",
      "Ep 2 (Step 000300): Train loss 0.678, Val loss 0.660\n",
      "Ep 2 (Step 000325): Train loss 0.703, Val loss 0.652\n",
      "Ep 2 (Step 000350): Train loss 0.618, Val loss 0.630\n",
      "Ep 2 (Step 000375): Train loss 0.595, Val loss 0.584\n",
      "Training accuracy: 73.75% | Validation accuracy: 73.75%\n",
      "Ep 3 (Step 000400): Train loss 0.563, Val loss 0.546\n",
      "Ep 3 (Step 000425): Train loss 0.586, Val loss 0.528\n",
      "Ep 3 (Step 000450): Train loss 0.461, Val loss 0.508\n",
      "Ep 3 (Step 000475): Train loss 0.541, Val loss 0.560\n",
      "Ep 3 (Step 000500): Train loss 0.469, Val loss 0.517\n",
      "Ep 3 (Step 000525): Train loss 0.568, Val loss 0.503\n",
      "Ep 3 (Step 000550): Train loss 0.500, Val loss 0.567\n",
      "Training accuracy: 81.25% | Validation accuracy: 80.00%\n",
      "Ep 4 (Step 000575): Train loss 0.505, Val loss 0.515\n",
      "Ep 4 (Step 000600): Train loss 0.492, Val loss 0.484\n",
      "Ep 4 (Step 000625): Train loss 0.521, Val loss 0.517\n",
      "Ep 4 (Step 000650): Train loss 0.532, Val loss 0.511\n",
      "Ep 4 (Step 000675): Train loss 0.406, Val loss 0.490\n",
      "Ep 4 (Step 000700): Train loss 0.418, Val loss 0.482\n",
      "Ep 4 (Step 000725): Train loss 0.434, Val loss 0.480\n",
      "Ep 4 (Step 000750): Train loss 0.432, Val loss 0.491\n",
      "Training accuracy: 75.00% | Validation accuracy: 80.00%\n",
      "Ep 5 (Step 000775): Train loss 0.454, Val loss 0.478\n",
      "Ep 5 (Step 000800): Train loss 0.432, Val loss 0.477\n",
      "Ep 5 (Step 000825): Train loss 0.474, Val loss 0.477\n",
      "Ep 5 (Step 000850): Train loss 0.495, Val loss 0.474\n",
      "Ep 5 (Step 000875): Train loss 0.492, Val loss 0.483\n",
      "Ep 5 (Step 000900): Train loss 0.395, Val loss 0.479\n",
      "Ep 5 (Step 000925): Train loss 0.430, Val loss 0.470\n",
      "Training accuracy: 84.38% | Validation accuracy: 79.38%\n",
      "Ep 6 (Step 000950): Train loss 0.390, Val loss 0.476\n",
      "Ep 6 (Step 000975): Train loss 0.552, Val loss 0.482\n",
      "Ep 6 (Step 001000): Train loss 0.444, Val loss 0.479\n",
      "Ep 6 (Step 001025): Train loss 0.445, Val loss 0.486\n",
      "Ep 6 (Step 001050): Train loss 0.453, Val loss 0.475\n",
      "Ep 6 (Step 001075): Train loss 0.440, Val loss 0.475\n",
      "Ep 6 (Step 001100): Train loss 0.355, Val loss 0.498\n",
      "Ep 6 (Step 001125): Train loss 0.487, Val loss 0.465\n",
      "Training accuracy: 83.12% | Validation accuracy: 77.50%\n",
      "Ep 7 (Step 001150): Train loss 0.456, Val loss 0.461\n",
      "Ep 7 (Step 001175): Train loss 0.405, Val loss 0.457\n",
      "Ep 7 (Step 001200): Train loss 0.485, Val loss 0.469\n",
      "Ep 7 (Step 001225): Train loss 0.364, Val loss 0.474\n",
      "Ep 7 (Step 001250): Train loss 0.397, Val loss 0.478\n",
      "Ep 7 (Step 001275): Train loss 0.403, Val loss 0.466\n",
      "Ep 7 (Step 001300): Train loss 0.441, Val loss 0.485\n",
      "Ep 7 (Step 001325): Train loss 0.401, Val loss 0.471\n",
      "Training accuracy: 79.38% | Validation accuracy: 80.00%\n",
      "Ep 8 (Step 001350): Train loss 0.358, Val loss 0.459\n",
      "Ep 8 (Step 001375): Train loss 0.417, Val loss 0.459\n",
      "Ep 8 (Step 001400): Train loss 0.409, Val loss 0.466\n",
      "Ep 8 (Step 001425): Train loss 0.345, Val loss 0.470\n",
      "Ep 8 (Step 001450): Train loss 0.407, Val loss 0.471\n",
      "Ep 8 (Step 001475): Train loss 0.511, Val loss 0.463\n",
      "Ep 8 (Step 001500): Train loss 0.374, Val loss 0.468\n",
      "Training accuracy: 80.00% | Validation accuracy: 79.38%\n",
      "Ep 9 (Step 001525): Train loss 0.473, Val loss 0.473\n",
      "Ep 9 (Step 001550): Train loss 0.482, Val loss 0.475\n",
      "Ep 9 (Step 001575): Train loss 0.383, Val loss 0.474\n",
      "Ep 9 (Step 001600): Train loss 0.295, Val loss 0.469\n",
      "Ep 9 (Step 001625): Train loss 0.338, Val loss 0.461\n",
      "Ep 9 (Step 001650): Train loss 0.397, Val loss 0.466\n",
      "Ep 9 (Step 001675): Train loss 0.403, Val loss 0.468\n",
      "Ep 9 (Step 001700): Train loss 0.324, Val loss 0.478\n",
      "Training accuracy: 82.50% | Validation accuracy: 79.38%\n",
      "Ep 10 (Step 001725): Train loss 0.331, Val loss 0.466\n",
      "Ep 10 (Step 001750): Train loss 0.415, Val loss 0.469\n",
      "Ep 10 (Step 001775): Train loss 0.413, Val loss 0.469\n",
      "Ep 10 (Step 001800): Train loss 0.448, Val loss 0.461\n",
      "Ep 10 (Step 001825): Train loss 0.396, Val loss 0.465\n",
      "Ep 10 (Step 001850): Train loss 0.396, Val loss 0.479\n",
      "Ep 10 (Step 001875): Train loss 0.354, Val loss 0.473\n",
      "Training accuracy: 87.50% | Validation accuracy: 80.00%\n",
      "Training completed in 5.34 minutes.\n"
     ]
    },
    {
     "data": {
      "image/png": "[encoded data removed]",
      "text/plain": [
       "<Figure size 500x300 with 2 Axes>"
      ]
     },
     "metadata": {},
     "output_type": "display_data"
    }
   ],
   "source": [
    "import time\n",
    "from train import *\n",
    "start_time = time.time()\n",
    "\n",
    "num_epochs = 10\n",
    "train_losses, val_losses, train_accs, val_accs, examples_seen = train_classifier_simple(\n",
    "    model, train_loader, val_loader, optimizer, device,\n",
    "    num_epochs=num_epochs, eval_freq=25, eval_iter=5,\n",
    "    tokenizer=tokenizer\n",
    ")\n",
    "\n",
    "end_time = time.time()\n",
    "execution_time_minutes = (end_time - start_time) / 60\n",
    "print(f\"Training completed in {execution_time_minutes:.2f} minutes.\")\n",
    "\n",
    "# plot\n",
    "epochs_tensor = torch.linspace(0, num_epochs, len(train_losses))\n",
    "examples_seen_tensor = torch.linspace(0, examples_seen, len(train_losses))\n",
    " \n",
    "plot_values(epochs_tensor, examples_seen_tensor, train_losses, val_losses)"
   ]
  },
  {
   "cell_type": "code",
   "execution_count": 34,
   "id": "598cc655-5b64-4bb3-8567-9564b3bc7884",
   "metadata": {},
   "outputs": [
    {
     "name": "stdout",
     "output_type": "stream",
     "text": [
      "Ep 1 (Step 000000): Train loss 0.380, Val loss 0.434\n",
      "Ep 1 (Step 000050): Train loss 0.233, Val loss 0.443\n",
      "Ep 1 (Step 000100): Train loss 0.352, Val loss 0.468\n",
      "Ep 1 (Step 000150): Train loss 0.264, Val loss 0.441\n",
      "Training accuracy: 91.88% | Validation accuracy: 77.50%\n",
      "Ep 2 (Step 000200): Train loss 0.268, Val loss 0.467\n",
      "Ep 2 (Step 000250): Train loss 0.253, Val loss 0.480\n",
      "Ep 2 (Step 000300): Train loss 0.219, Val loss 0.489\n",
      "Ep 2 (Step 000350): Train loss 0.240, Val loss 0.507\n",
      "Training accuracy: 93.75% | Validation accuracy: 78.12%\n",
      "Ep 3 (Step 000400): Train loss 0.207, Val loss 0.489\n",
      "Ep 3 (Step 000450): Train loss 0.270, Val loss 0.513\n",
      "Ep 3 (Step 000500): Train loss 0.214, Val loss 0.556\n",
      "Ep 3 (Step 000550): Train loss 0.147, Val loss 0.513\n",
      "Training accuracy: 93.12% | Validation accuracy: 78.12%\n",
      "Ep 4 (Step 000600): Train loss 0.177, Val loss 0.575\n",
      "Ep 4 (Step 000650): Train loss 0.174, Val loss 0.589\n",
      "Ep 4 (Step 000700): Train loss 0.329, Val loss 0.632\n",
      "Ep 4 (Step 000750): Train loss 0.243, Val loss 0.616\n",
      "Training accuracy: 96.25% | Validation accuracy: 78.12%\n",
      "Ep 5 (Step 000800): Train loss 0.190, Val loss 0.646\n",
      "Ep 5 (Step 000850): Train loss 0.126, Val loss 0.709\n",
      "Ep 5 (Step 000900): Train loss 0.115, Val loss 0.629\n",
      "Training accuracy: 97.50% | Validation accuracy: 78.75%\n",
      "Training completed in 2.28 minutes.\n"
     ]
    },
    {
     "data": {
      "image/png": "[encoded data removed]",
      "text/plain": [
       "<Figure size 500x300 with 2 Axes>"
      ]
     },
     "metadata": {},
     "output_type": "display_data"
    }
   ],
   "source": [
    "start_time = time.time()\n",
    "\n",
    "num_epochs = 5\n",
    "train_losses, val_losses, train_accs, val_accs, examples_seen = train_classifier_simple(\n",
    "    model, train_loader, val_loader, optimizer, device,\n",
    "    num_epochs=num_epochs, eval_freq=50, eval_iter=5,\n",
    "    tokenizer=tokenizer\n",
    ")\n",
    "\n",
    "end_time = time.time()\n",
    "execution_time_minutes = (end_time - start_time) / 60\n",
    "print(f\"Training completed in {execution_time_minutes:.2f} minutes.\")\n",
    "\n",
    "# plot\n",
    "epochs_tensor = torch.linspace(0, num_epochs, len(train_losses))\n",
    "examples_seen_tensor = torch.linspace(0, examples_seen, len(train_losses))\n",
    " \n",
    "plot_values(epochs_tensor, examples_seen_tensor, train_losses, val_losses)"
   ]
  },
  {
   "cell_type": "markdown",
   "id": "01f52365-ccc7-45a0-9728-6282812721f0",
   "metadata": {},
   "source": [
    "#### inference"
   ]
  },
  {
   "cell_type": "code",
   "execution_count": 29,
   "id": "a1535788-e336-4f93-b860-f25576072d22",
   "metadata": {},
   "outputs": [
    {
     "name": "stdout",
     "output_type": "stream",
     "text": [
      "Accuracy: 0.66\n",
      "Confusion Matrix:\n",
      "[[7728 1930  225   54   63]\n",
      " [1900 6047 1839  162   52]\n",
      " [ 228 1812 5744 1992  224]\n",
      " [  52  129 1433 5929 2457]\n",
      " [  65   43  181 2200 7511]]\n"
     ]
    },
    {
     "data": {
      "text/plain": [
       "array([[7728, 1930,  225,   54,   63],\n",
       "       [1900, 6047, 1839,  162,   52],\n",
       "       [ 228, 1812, 5744, 1992,  224],\n",
       "       [  52,  129, 1433, 5929, 2457],\n",
       "       [  65,   43,  181, 2200, 7511]])"
      ]
     },
     "execution_count": 29,
     "metadata": {},
     "output_type": "execute_result"
    }
   ],
   "source": [
    "model.to(device)\n",
    "accuracy_confusion_matrix(model, device, test_loader)"
   ]
  },
  {
   "cell_type": "markdown",
   "id": "e172e99f-db49-465a-a3b5-faa3fe984932",
   "metadata": {},
   "source": [
    "## Conclusion"
   ]
  },
  {
   "cell_type": "markdown",
   "id": "cc34f705-7587-4eeb-863b-3236707a6ac7",
   "metadata": {},
   "source": []
  }
 ],
 "metadata": {
  "kernelspec": {
   "display_name": "Python 3 (ipykernel)",
   "language": "python",
   "name": "python3"
  },
  "language_info": {
   "codemirror_mode": {
    "name": "ipython",
    "version": 3
   },
   "file_extension": ".py",
   "mimetype": "text/x-python",
   "name": "python",
   "nbconvert_exporter": "python",
   "pygments_lexer": "ipython3",
   "version": "3.11.8"
  }
 },
 "nbformat": 4,
 "nbformat_minor": 5
}
